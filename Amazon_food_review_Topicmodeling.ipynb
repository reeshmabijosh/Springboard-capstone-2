{
 "cells": [
  {
   "cell_type": "markdown",
   "metadata": {},
   "source": [
    "# Topic Modeling  Amazon Reviews "
   ]
  },
  {
   "cell_type": "markdown",
   "metadata": {},
   "source": [
    "Topic Modeling is a technique to extract the hidden topics from large volumes of text. Latent Dirichlet Allocation(LDA) is a popular algorithm for topic modeling with excellent implementations in the Python’s Gensim package."
   ]
  },
  {
   "cell_type": "code",
   "execution_count": 1,
   "metadata": {},
   "outputs": [
    {
     "name": "stderr",
     "output_type": "stream",
     "text": [
      "C:\\Users\\reesh\\Anaconda3\\lib\\site-packages\\statsmodels\\tools\\_testing.py:19: FutureWarning: pandas.util.testing is deprecated. Use the functions in the public API at pandas.testing instead.\n",
      "  import pandas.util.testing as tm\n"
     ]
    }
   ],
   "source": [
    "import spacy\n",
    "import pandas as pd\n",
    "import numpy as np\n",
    "import nltk\n",
    "import matplotlib.pyplot as plt\n",
    "import seaborn as sns\n",
    "from nltk.tokenize.toktok import ToktokTokenizer\n",
    "import re\n",
    "from bs4 import BeautifulSoup\n",
    "import unicodedata\n"
   ]
  },
  {
   "cell_type": "code",
   "execution_count": 2,
   "metadata": {},
   "outputs": [
    {
     "data": {
      "text/html": [
       "<div>\n",
       "<style scoped>\n",
       "    .dataframe tbody tr th:only-of-type {\n",
       "        vertical-align: middle;\n",
       "    }\n",
       "\n",
       "    .dataframe tbody tr th {\n",
       "        vertical-align: top;\n",
       "    }\n",
       "\n",
       "    .dataframe thead th {\n",
       "        text-align: right;\n",
       "    }\n",
       "</style>\n",
       "<table border=\"1\" class=\"dataframe\">\n",
       "  <thead>\n",
       "    <tr style=\"text-align: right;\">\n",
       "      <th></th>\n",
       "      <th>Score</th>\n",
       "      <th>Summary</th>\n",
       "      <th>Text</th>\n",
       "      <th>clean_text</th>\n",
       "      <th>count</th>\n",
       "    </tr>\n",
       "  </thead>\n",
       "  <tbody>\n",
       "    <tr>\n",
       "      <th>0</th>\n",
       "      <td>5</td>\n",
       "      <td>Good Quality Dog Food</td>\n",
       "      <td>I have bought several of the Vitality canned d...</td>\n",
       "      <td>buy several vitality dog food products find go...</td>\n",
       "      <td>22</td>\n",
       "    </tr>\n",
       "    <tr>\n",
       "      <th>1</th>\n",
       "      <td>1</td>\n",
       "      <td>Not as Advertised</td>\n",
       "      <td>Product arrived labeled as Jumbo Salted Peanut...</td>\n",
       "      <td>product arrive label jumbo salt peanutsthe pea...</td>\n",
       "      <td>18</td>\n",
       "    </tr>\n",
       "    <tr>\n",
       "      <th>2</th>\n",
       "      <td>4</td>\n",
       "      <td>\"Delight\" says it all</td>\n",
       "      <td>This is a confection that has been around a fe...</td>\n",
       "      <td>confection around centuries light pillowy citr...</td>\n",
       "      <td>39</td>\n",
       "    </tr>\n",
       "    <tr>\n",
       "      <th>3</th>\n",
       "      <td>2</td>\n",
       "      <td>Cough Medicine</td>\n",
       "      <td>If you are looking for the secret ingredient i...</td>\n",
       "      <td>look secret ingredient robitussin believe find...</td>\n",
       "      <td>18</td>\n",
       "    </tr>\n",
       "    <tr>\n",
       "      <th>4</th>\n",
       "      <td>5</td>\n",
       "      <td>Great taffy</td>\n",
       "      <td>Great taffy at a great price.  There was a wid...</td>\n",
       "      <td>great taffy great price wide assortment yummy ...</td>\n",
       "      <td>13</td>\n",
       "    </tr>\n",
       "  </tbody>\n",
       "</table>\n",
       "</div>"
      ],
      "text/plain": [
       "   Score                Summary  \\\n",
       "0      5  Good Quality Dog Food   \n",
       "1      1      Not as Advertised   \n",
       "2      4  \"Delight\" says it all   \n",
       "3      2         Cough Medicine   \n",
       "4      5            Great taffy   \n",
       "\n",
       "                                                Text  \\\n",
       "0  I have bought several of the Vitality canned d...   \n",
       "1  Product arrived labeled as Jumbo Salted Peanut...   \n",
       "2  This is a confection that has been around a fe...   \n",
       "3  If you are looking for the secret ingredient i...   \n",
       "4  Great taffy at a great price.  There was a wid...   \n",
       "\n",
       "                                          clean_text  count  \n",
       "0  buy several vitality dog food products find go...     22  \n",
       "1  product arrive label jumbo salt peanutsthe pea...     18  \n",
       "2  confection around centuries light pillowy citr...     39  \n",
       "3  look secret ingredient robitussin believe find...     18  \n",
       "4  great taffy great price wide assortment yummy ...     13  "
      ]
     },
     "execution_count": 2,
     "metadata": {},
     "output_type": "execute_result"
    }
   ],
   "source": [
    "df=pd.read_csv('clean_df.csv')\n",
    "df.head()"
   ]
  },
  {
   "cell_type": "code",
   "execution_count": 3,
   "metadata": {},
   "outputs": [
    {
     "name": "stdout",
     "output_type": "stream",
     "text": [
      "<class 'pandas.core.frame.DataFrame'>\n",
      "RangeIndex: 393576 entries, 0 to 393575\n",
      "Data columns (total 5 columns):\n",
      " #   Column      Non-Null Count   Dtype \n",
      "---  ------      --------------   ----- \n",
      " 0   Score       393576 non-null  int64 \n",
      " 1   Summary     393576 non-null  object\n",
      " 2   Text        393576 non-null  object\n",
      " 3   clean_text  393573 non-null  object\n",
      " 4   count       393576 non-null  int64 \n",
      "dtypes: int64(2), object(3)\n",
      "memory usage: 15.0+ MB\n"
     ]
    }
   ],
   "source": [
    "df.info()"
   ]
  },
  {
   "cell_type": "code",
   "execution_count": 4,
   "metadata": {},
   "outputs": [
    {
     "data": {
      "text/plain": [
       "(393576, 5)"
      ]
     },
     "execution_count": 4,
     "metadata": {},
     "output_type": "execute_result"
    }
   ],
   "source": [
    "#Size of the dataset\n",
    "df.shape"
   ]
  },
  {
   "cell_type": "code",
   "execution_count": 5,
   "metadata": {},
   "outputs": [],
   "source": [
    "#Drop unwanted columns\n",
    "df.drop(['count','Summary'],axis=1,inplace=True)"
   ]
  },
  {
   "cell_type": "code",
   "execution_count": 6,
   "metadata": {},
   "outputs": [],
   "source": [
    "#dropping duplicates\n",
    "df.drop_duplicates(subset=['Text'],inplace=True)  \n",
    "#dropping na\n",
    "df.dropna(axis=0,inplace=True)  "
   ]
  },
  {
   "cell_type": "code",
   "execution_count": 7,
   "metadata": {},
   "outputs": [
    {
     "name": "stdout",
     "output_type": "stream",
     "text": [
      "<class 'pandas.core.frame.DataFrame'>\n",
      "Int64Index: 393573 entries, 0 to 393575\n",
      "Data columns (total 3 columns):\n",
      " #   Column      Non-Null Count   Dtype \n",
      "---  ------      --------------   ----- \n",
      " 0   Score       393573 non-null  int64 \n",
      " 1   Text        393573 non-null  object\n",
      " 2   clean_text  393573 non-null  object\n",
      "dtypes: int64(1), object(2)\n",
      "memory usage: 12.0+ MB\n"
     ]
    }
   ],
   "source": [
    "df.info()"
   ]
  },
  {
   "cell_type": "code",
   "execution_count": 8,
   "metadata": {},
   "outputs": [
    {
     "data": {
      "text/plain": [
       "(393573, 3)"
      ]
     },
     "execution_count": 8,
     "metadata": {},
     "output_type": "execute_result"
    }
   ],
   "source": [
    "#final size of the dataset\n",
    "df.shape"
   ]
  },
  {
   "cell_type": "code",
   "execution_count": 9,
   "metadata": {},
   "outputs": [
    {
     "data": {
      "text/plain": [
       "'I have bought several of the Vitality canned dog food products and have found them all to be of good quality. The product looks more like a stew than a processed meat and it smells better. My Labrador is finicky and she appreciates this product better than  most.'"
      ]
     },
     "execution_count": 9,
     "metadata": {},
     "output_type": "execute_result"
    }
   ],
   "source": [
    "#sample review\n",
    "df['Text'].iloc[0]"
   ]
  },
  {
   "cell_type": "code",
   "execution_count": 10,
   "metadata": {},
   "outputs": [
    {
     "data": {
      "text/plain": [
       "array([5, 1, 4, 2, 3], dtype=int64)"
      ]
     },
     "execution_count": 10,
     "metadata": {},
     "output_type": "execute_result"
    }
   ],
   "source": [
    "#To check the unique number of Score\n",
    "df['Score'].unique()"
   ]
  },
  {
   "cell_type": "code",
   "execution_count": 11,
   "metadata": {},
   "outputs": [
    {
     "data": {
      "text/plain": [
       "5    250713\n",
       "4     56042\n",
       "1     36275\n",
       "3     29752\n",
       "2     20791\n",
       "Name: Score, dtype: int64"
      ]
     },
     "execution_count": 11,
     "metadata": {},
     "output_type": "execute_result"
    }
   ],
   "source": [
    "#value_counts of score\n",
    "df['Score'].value_counts()"
   ]
  },
  {
   "cell_type": "code",
   "execution_count": 12,
   "metadata": {},
   "outputs": [
    {
     "data": {
      "text/plain": [
       "<matplotlib.axes._subplots.AxesSubplot at 0x20eb3d8d4c8>"
      ]
     },
     "execution_count": 12,
     "metadata": {},
     "output_type": "execute_result"
    },
    {
     "data": {
      "image/png": "[encoded data removed]",
      "text/plain": [
       "<Figure size 720x432 with 1 Axes>"
      ]
     },
     "metadata": {
      "needs_background": "light"
     },
     "output_type": "display_data"
    }
   ],
   "source": [
    "#countplot of score\n",
    "plt.figure(figsize=(10,6))\n",
    "plt.title('Analysis of Score',fontsize=14)\n",
    "sns.set_style('whitegrid')\n",
    "sns.countplot(x='Score',data=df)"
   ]
  },
  {
   "cell_type": "markdown",
   "metadata": {},
   "source": [
    "From the countplot it is clear that most of the reviews have score 5 and very less reviwes have score 2"
   ]
  },
  {
   "cell_type": "markdown",
   "metadata": {},
   "source": [
    "# Topic Modeling to Mining Amazon Reviews "
   ]
  },
  {
   "cell_type": "markdown",
   "metadata": {},
   "source": [
    "  Topic Modeling is a text mining approach. A Topic Model can be defined as an unsupervised technique to discover topics across various text documents. \n",
    "  Topic modeling helps in exploring large amounts of text data, finding clusters of words, similarity between documents, and discovering abstract topics. \n",
    "    \n",
    "  Topic Modeling Algorithms\n",
    "  \n",
    "There are several algorithms for doing topic modeling. The most popular ones include\n",
    "LSA or LSI – Latent Semantic Analysis or Latent Semantic Indexing – Uses Singular Value Decomposition (SVD) on the Document-Term Matrix. Based on Linear Algebra\n",
    "\n",
    "NMF – Non-Negative Matrix Factorization – Based on Linear Algebra\n",
    "\n",
    "LDA – Latent Dirichlet Allocation – The one we’ll be focusing here. Its foundations are Probabilistic Graphical Models\n",
    "  "
   ]
  },
  {
   "cell_type": "markdown",
   "metadata": {},
   "source": [
    "#### What does LDA do?"
   ]
  },
  {
   "cell_type": "markdown",
   "metadata": {},
   "source": [
    "The LDA is based upon two general assumptions:\n",
    "\n",
    "Documents that have similar words usually have the same topic\n",
    "\n",
    "Documents that have groups of words frequently occurring together usually have the same topic."
   ]
  },
  {
   "cell_type": "markdown",
   "metadata": {},
   "source": [
    "LDA’s approach to topic modeling is it considers each document as a collection of topics in a certain proportion. And each topic as a collection of keywords, again, in a certain proportion.\n",
    "Once you provide the algorithm with the number of topics, all it does it to rearrange the topics distribution within the documents and keywords distribution within the topics to obtain a good composition of topic-keywords distribution.\n",
    "A topic is nothing but a collection of dominant keywords that are typical representatives. Just by looking at the keywords, you can identify what the topic is all about.\n",
    "\n",
    "I will be using the Latent Dirichlet Allocation (LDA) from Gensim package."
   ]
  },
  {
   "cell_type": "code",
   "execution_count": 13,
   "metadata": {},
   "outputs": [],
   "source": [
    "# Gensim\n",
    "import gensim\n",
    "import gensim.corpora as corpora\n",
    "from gensim.utils import simple_preprocess\n",
    "from gensim.models import CoherenceModel\n",
    "\n",
    "# spacy for lemmatization\n",
    "import spacy\n",
    "\n",
    "# Plotting tools\n",
    "import pyLDAvis\n",
    "import pyLDAvis.gensim  # don't skip this\n",
    "import matplotlib.pyplot as plt\n",
    "%matplotlib inline"
   ]
  },
  {
   "cell_type": "markdown",
   "metadata": {},
   "source": [
    "#### Tokenize words"
   ]
  },
  {
   "cell_type": "markdown",
   "metadata": {},
   "source": [
    "Let’s tokenize each sentence into a list of words, removing punctuations and unnecessary characters altogether.\n",
    "Gensim’s simple_preprocess() is great for this. Additionally I have set deacc=True to remove the punctuations."
   ]
  },
  {
   "cell_type": "code",
   "execution_count": 14,
   "metadata": {},
   "outputs": [
    {
     "name": "stdout",
     "output_type": "stream",
     "text": [
      "[['buy', 'several', 'vitality', 'dog', 'food', 'products', 'find', 'good', 'quality', 'product', 'look', 'like', 'stew', 'process', 'meat', 'smell', 'better', 'labrador', 'finicky', 'appreciate', 'product', 'better']]\n"
     ]
    }
   ],
   "source": [
    "def sent_to_words(sentences):\n",
    "    for sentence in sentences:\n",
    "        yield(gensim.utils.simple_preprocess(str(sentence), deacc=True))  # deacc=True removes punctuations\n",
    "\n",
    "data_words = list(sent_to_words(df['clean_text']))\n",
    "\n",
    "print(data_words[:1])"
   ]
  },
  {
   "cell_type": "code",
   "execution_count": 15,
   "metadata": {},
   "outputs": [
    {
     "name": "stdout",
     "output_type": "stream",
     "text": [
      "['buy', 'several', 'vitality', 'dog', 'food', 'products', 'find', 'good', 'quality', 'product', 'look', 'like', 'stew', 'process', 'meat', 'smell', 'better', 'labrador', 'finicky', 'appreciate', 'product', 'better']\n"
     ]
    }
   ],
   "source": [
    "# Build the bigram and trigram models\n",
    "bigram = gensim.models.Phrases(data_words, min_count=5, threshold=100) # higher threshold fewer phrases.\n",
    "trigram = gensim.models.Phrases(bigram[data_words], threshold=100)  \n",
    "\n",
    "# Faster way to get a sentence clubbed as a trigram/bigram\n",
    "bigram_mod = gensim.models.phrases.Phraser(bigram)\n",
    "trigram_mod = gensim.models.phrases.Phraser(trigram)\n",
    "\n",
    "# See trigram example\n",
    "print(trigram_mod[bigram_mod[data_words[0]]])"
   ]
  },
  {
   "cell_type": "code",
   "execution_count": 16,
   "metadata": {},
   "outputs": [],
   "source": [
    "# Define functions for stopwords, bigrams, trigrams and lemmatization\n",
    "def remove_stopwords(texts):\n",
    "    return [[word for word in simple_preprocess(str(doc)) if word not in stop_words] for doc in texts]\n",
    "\n",
    "def make_bigrams(texts):\n",
    "    return [bigram_mod[doc] for doc in texts]\n",
    "\n",
    "def make_trigrams(texts):\n",
    "    return [trigram_mod[bigram_mod[doc]] for doc in texts]\n",
    "\n",
    "def lemmatization(texts, allowed_postags=['NOUN', 'ADJ', 'VERB', 'ADV']):\n",
    "    \"\"\"https://spacy.io/api/annotation\"\"\"\n",
    "    texts_out = []\n",
    "    for sent in texts:\n",
    "        doc = nlp(\" \".join(sent)) \n",
    "        texts_out.append([token.lemma_ for token in doc if token.pos_ in allowed_postags])\n",
    "    return texts_out"
   ]
  },
  {
   "cell_type": "code",
   "execution_count": 17,
   "metadata": {},
   "outputs": [],
   "source": [
    "from nltk.corpus import stopwords\n",
    "stop_words = stopwords.words('english')\n",
    "stop_words.extend(['from', 'subject', 're', 'edu', 'use'])"
   ]
  },
  {
   "cell_type": "code",
   "execution_count": 18,
   "metadata": {},
   "outputs": [
    {
     "name": "stdout",
     "output_type": "stream",
     "text": [
      "[['buy', 'several', 'vitality', 'dog', 'food', 'products', 'find', 'good', 'quality', 'product', 'look', 'like', 'stew', 'process', 'meat', 'smell', 'better', 'labrador', 'finicky', 'appreciate', 'product', 'better']]\n"
     ]
    }
   ],
   "source": [
    "# Remove Stop Words\n",
    "data_words_nostops = remove_stopwords(data_words)\n",
    "\n",
    "# Form Bigrams\n",
    "data_words_bigrams = make_bigrams(data_words_nostops)\n",
    "\n",
    "# Initialize spacy 'en' model, keeping only tagger component (for efficiency)\n",
    "# python3 -m spacy download en\n",
    "nlp = spacy.load('en', disable=['parser', 'ner'])\n",
    "\n",
    "# Do lemmatization keeping only noun, adj, vb, adv\n",
    "data_lemmatized = lemmatization(data_words_bigrams, allowed_postags=['NOUN', 'ADJ', 'VERB', 'ADV'])\n",
    "\n",
    "print(data_words_bigrams[:1])"
   ]
  },
  {
   "cell_type": "code",
   "execution_count": 19,
   "metadata": {},
   "outputs": [
    {
     "name": "stdout",
     "output_type": "stream",
     "text": [
      "[[(0, 1), (1, 2), (2, 1), (3, 1), (4, 1), (5, 1), (6, 1), (7, 1), (8, 1), (9, 1), (10, 1), (11, 1), (12, 1), (13, 2), (14, 1), (15, 1), (16, 1), (17, 1), (18, 1), (19, 1)]]\n"
     ]
    }
   ],
   "source": [
    "# Create Dictionary\n",
    "id2word = corpora.Dictionary(data_words_bigrams)\n",
    "\n",
    "# Create Corpus\n",
    "texts = data_words_bigrams\n",
    "\n",
    "# Term Document Frequency\n",
    "corpus = [id2word.doc2bow(text) for text in texts]\n",
    "\n",
    "# View\n",
    "print(corpus[:1])"
   ]
  },
  {
   "cell_type": "code",
   "execution_count": 20,
   "metadata": {},
   "outputs": [
    {
     "data": {
      "text/plain": [
       "[[('appreciate', 1),\n",
       "  ('better', 2),\n",
       "  ('buy', 1),\n",
       "  ('dog', 1),\n",
       "  ('find', 1),\n",
       "  ('finicky', 1),\n",
       "  ('food', 1),\n",
       "  ('good', 1),\n",
       "  ('labrador', 1),\n",
       "  ('like', 1),\n",
       "  ('look', 1),\n",
       "  ('meat', 1),\n",
       "  ('process', 1),\n",
       "  ('product', 2),\n",
       "  ('products', 1),\n",
       "  ('quality', 1),\n",
       "  ('several', 1),\n",
       "  ('smell', 1),\n",
       "  ('stew', 1),\n",
       "  ('vitality', 1)]]"
      ]
     },
     "execution_count": 20,
     "metadata": {},
     "output_type": "execute_result"
    }
   ],
   "source": [
    "# Human readable format of corpus (term-frequency)\n",
    "[[(id2word[id], freq) for id, freq in cp] for cp in corpus[:1]]"
   ]
  },
  {
   "cell_type": "code",
   "execution_count": 21,
   "metadata": {},
   "outputs": [],
   "source": [
    "lda_model = gensim.models.ldamodel.LdaModel(corpus=corpus,\n",
    "                                           id2word=id2word,\n",
    "                                           num_topics=4, \n",
    "                                           random_state=100,\n",
    "                                           update_every=1,\n",
    "                                           chunksize=100,\n",
    "                                           passes=10,\n",
    "                                           alpha='auto',\n",
    "                                           per_word_topics=True)"
   ]
  },
  {
   "cell_type": "code",
   "execution_count": 22,
   "metadata": {
    "scrolled": true
   },
   "outputs": [
    {
     "name": "stdout",
     "output_type": "stream",
     "text": [
      "[(0, '0.025*\"like\" + 0.024*\"taste\" + 0.016*\"good\" + 0.016*\"flavor\" + 0.015*\"try\" + 0.013*\"make\" + 0.010*\"tea\" + 0.009*\"really\" + 0.009*\"great\" + 0.009*\"one\"'), (1, '0.057*\"food\" + 0.040*\"dog\" + 0.031*\"treat\" + 0.024*\"cat\" + 0.016*\"hair\" + 0.015*\"eat\" + 0.012*\"salmon\" + 0.011*\"grain\" + 0.010*\"chew\" + 0.010*\"dry\"'), (2, '0.094*\"coffee\" + 0.041*\"chocolate\" + 0.034*\"cup\" + 0.032*\"bean\" + 0.029*\"milk\" + 0.018*\"roast\" + 0.016*\"blend\" + 0.015*\"dark\" + 0.013*\"cake\" + 0.013*\"coconut\"'), (3, '0.023*\"buy\" + 0.021*\"get\" + 0.018*\"product\" + 0.015*\"find\" + 0.014*\"order\" + 0.013*\"love\" + 0.013*\"price\" + 0.013*\"time\" + 0.012*\"bag\" + 0.012*\"box\"')]\n"
     ]
    }
   ],
   "source": [
    "# Print the Keyword in the 10 topics\n",
    "print(lda_model.print_topics())\n",
    "doc_lda = lda_model[corpus]"
   ]
  },
  {
   "cell_type": "code",
   "execution_count": 24,
   "metadata": {},
   "outputs": [
    {
     "name": "stdout",
     "output_type": "stream",
     "text": [
      "\n",
      "Topic 1:\n",
      " like, 0.02480805478990078\n",
      " taste, 0.02372930943965912\n",
      " good, 0.016334159299731255\n",
      " flavor, 0.016251008957624435\n",
      " try, 0.015221908688545227\n",
      " make, 0.013389814645051956\n",
      " tea, 0.010343896225094795\n",
      " really, 0.00941427331417799\n",
      " great, 0.009119825437664986\n",
      " one, 0.008629397489130497\n",
      "\n",
      "Topic 2:\n",
      " food, 0.05676615610718727\n",
      " dog, 0.03996788337826729\n",
      " treat, 0.03131280094385147\n",
      " cat, 0.0243700984865427\n",
      " hair, 0.016149401664733887\n",
      " eat, 0.014661077409982681\n",
      " salmon, 0.01152027491480112\n",
      " grain, 0.011040542274713516\n",
      " chew, 0.010220040567219257\n",
      " dry, 0.010166892781853676\n",
      "\n",
      "Topic 3:\n",
      " coffee, 0.09446264803409576\n",
      " chocolate, 0.04100356996059418\n",
      " cup, 0.03355761617422104\n",
      " bean, 0.032412055879831314\n",
      " milk, 0.02870054543018341\n",
      " roast, 0.017745209857821465\n",
      " blend, 0.015805445611476898\n",
      " dark, 0.015034345909953117\n",
      " cake, 0.013070255517959595\n",
      " coconut, 0.012722576968371868\n",
      "\n",
      "Topic 4:\n",
      " buy, 0.02317124977707863\n",
      " get, 0.021422231569886208\n",
      " product, 0.018362151458859444\n",
      " find, 0.015431377105414867\n",
      " order, 0.01414573099464178\n",
      " love, 0.01337530929595232\n",
      " price, 0.012606016360223293\n",
      " time, 0.012543821707367897\n",
      " bag, 0.01183144748210907\n",
      " box, 0.0118120601400733\n"
     ]
    }
   ],
   "source": [
    "for topic in range(0, 4):\n",
    "    print(f\"\\nTopic {topic+1}:\")\n",
    "    for token, frequency in lda_model.show_topic(topic, topn=10):\n",
    "        print(f\" {token}, {frequency}\")"
   ]
  },
  {
   "cell_type": "code",
   "execution_count": 25,
   "metadata": {},
   "outputs": [
    {
     "data": {
      "text/html": [
       "\n",
       "<link rel=\"stylesheet\" type=\"text/css\" href=\"https://cdn.rawgit.com/bmabey/pyLDAvis/files/ldavis.v1.0.0.css\">\n",
       "\n",
       "\n",
       "<div id=\"ldavis_el1608822684074343123732777504\"></div>\n",
       "<script type=\"text/javascript\">\n",
       "\n",
       "var ldavis_el1608822684074343123732777504_data = {\"mdsDat\": {\"x\": [0.15085688791611188, 0.21341620863301758, 0.033726462238973375, -0.3979995587881029], \"y\": [0.11111063082117074, 0.14802835571081202, -0.35089535805645455, 0.09175637152447193], \"topics\": [1, 2, 3, 4], \"cluster\": [1, 1, 1, 1], \"Freq\": [52.64760208129883, 33.62370300292969, 7.152275085449219, 6.576423168182373]}, \"tinfo\": {\"Term\": [\"coffee\", \"food\", \"buy\", \"like\", \"taste\", \"dog\", \"chocolate\", \"eat\", \"cup\", \"treat\", \"bean\", \"flavor\", \"product\", \"order\", \"try\", \"milk\", \"get\", \"price\", \"cat\", \"bag\", \"box\", \"find\", \"amazon\", \"store\", \"time\", \"tea\", \"dry\", \"really\", \"roast\", \"hair\", \"like\", \"taste\", \"try\", \"tea\", \"really\", \"add\", \"cookies\", \"sauce\", \"bite\", \"hot\", \"cookie\", \"sugar\", \"sweet\", \"water\", \"delicious\", \"snack\", \"stuff\", \"without\", \"salt\", \"bar\", \"pretty\", \"tasty\", \"smell\", \"oil\", \"cook\", \"serve\", \"organic\", \"quite\", \"popcorn\", \"real\", \"nice\", \"flavor\", \"something\", \"good\", \"little\", \"drink\", \"make\", \"soft\", \"recommend\", \"eat\", \"enjoy\", \"also\", \"mix\", \"better\", \"great\", \"one\", \"would\", \"much\", \"think\", \"love\", \"even\", \"buy\", \"order\", \"price\", \"bag\", \"box\", \"amazon\", \"store\", \"package\", \"purchase\", \"ship\", \"receive\", \"back\", \"open\", \"candy\", \"local\", \"arrive\", \"grocery\", \"company\", \"gift\", \"case\", \"sell\", \"thank\", \"pay\", \"cost\", \"able\", \"item\", \"send\", \"jar\", \"carry\", \"deal\", \"please\", \"years\", \"last\", \"around\", \"pack\", \"product\", \"time\", \"find\", \"get\", \"come\", \"could\", \"love\", \"see\", \"happy\", \"would\", \"one\", \"great\", \"look\", \"know\", \"say\", \"first\", \"food\", \"dog\", \"treat\", \"cat\", \"hair\", \"chew\", \"salmon\", \"grain\", \"baby\", \"shampoo\", \"formula\", \"problems\", \"teeth\", \"pet\", \"feed\", \"vet\", \"bone\", \"tuna\", \"fee\", \"skin\", \"dandruff\", \"scalp\", \"weight\", \"wet\", \"puppy\", \"sardines\", \"research\", \"allergies\", \"lbs\", \"train\", \"switch\", \"clean\", \"dry\", \"help\", \"eat\", \"give\", \"old\", \"start\", \"seem\", \"love\", \"chicken\", \"foods\", \"coffee\", \"chocolate\", \"cup\", \"bean\", \"milk\", \"roast\", \"blend\", \"dark\", \"cake\", \"brew\", \"coconut\", \"bread\", \"butter\", \"bitter\", \"cereal\", \"smooth\", \"rich\", \"espresso\", \"vanilla\", \"raisins\", \"aroma\", \"french\", \"flour\", \"machine\", \"starbucks\", \"chai\", \"almond\", \"coffees\", \"cocoa\", \"recipes\", \"grind\", \"strong\", \"morning\", \"ice\", \"bake\", \"make\", \"flavor\"], \"Freq\": [90709.0, 59283.0, 113761.0, 190708.0, 182416.0, 41740.0, 39374.0, 81117.0, 32224.0, 32702.0, 31124.0, 130795.0, 105094.0, 69450.0, 117016.0, 27560.0, 136828.0, 61890.0, 25451.0, 58088.0, 57992.0, 91471.0, 51797.0, 49677.0, 71496.0, 79517.0, 28315.0, 72371.0, 17040.0, 16866.0, 190707.859375, 182415.1875, 117015.9296875, 79517.0078125, 72370.6875, 51137.125, 48731.32421875, 42036.58203125, 39787.16015625, 38654.94140625, 39305.5546875, 35204.83984375, 34079.2734375, 33045.09765625, 33045.234375, 29623.76953125, 28124.486328125, 25175.10546875, 23883.560546875, 21529.666015625, 21234.580078125, 20352.37109375, 23329.384765625, 20733.83203125, 19676.673828125, 19085.978515625, 19216.54296875, 18944.3125, 18018.7109375, 17503.220703125, 33118.23046875, 124926.96875, 25975.015625, 125566.171875, 52723.4296875, 40382.203125, 102932.0078125, 33538.92578125, 35012.41015625, 65805.3828125, 28841.400390625, 48681.4296875, 34953.74609375, 39007.37890625, 70107.171875, 66337.078125, 62096.2578125, 45087.49609375, 42640.32421875, 57921.02734375, 34037.73046875, 113760.640625, 69449.3203125, 61889.99609375, 58087.203125, 57992.01953125, 51797.05078125, 49676.86328125, 39545.0859375, 38119.4375, 27358.15234375, 25792.9453125, 22160.83984375, 21298.3984375, 19412.087890625, 19308.818359375, 17909.091796875, 16330.8701171875, 15489.0478515625, 14851.34765625, 15097.7158203125, 14373.4912109375, 14146.861328125, 14025.5791015625, 13584.0537109375, 12696.1552734375, 12341.8388671875, 12157.705078125, 11787.1279296875, 11160.8427734375, 11106.376953125, 13144.873046875, 24915.19140625, 21513.130859375, 15445.578125, 30591.95703125, 90150.0859375, 61584.6484375, 75761.2734375, 105173.734375, 35830.515625, 32558.37890625, 65666.8828125, 22302.521484375, 17295.896484375, 51091.6328125, 50915.33984375, 46148.84765625, 24915.408203125, 22707.22265625, 23849.30078125, 22453.001953125, 59283.07421875, 41739.9921875, 32701.16015625, 25450.62890625, 16865.439453125, 10673.1806640625, 12031.0654296875, 11530.0615234375, 8617.462890625, 8263.94140625, 7165.50830078125, 6367.86328125, 5729.78955078125, 5350.42041015625, 5239.8359375, 4910.00439453125, 4697.68798828125, 4665.873046875, 4430.02001953125, 4512.3388671875, 4121.76611328125, 4940.28662109375, 3347.7490234375, 3281.839599609375, 2953.452880859375, 3167.0791015625, 2881.154541015625, 2708.80615234375, 2798.49560546875, 2609.63134765625, 4659.857421875, 5669.08544921875, 10617.67578125, 6903.60009765625, 15311.1259765625, 8633.978515625, 5761.41064453125, 5448.494140625, 5848.1552734375, 7634.54345703125, 4995.7724609375, 4771.12255859375, 90708.2734375, 39373.90234375, 32223.884765625, 31123.853515625, 27559.85546875, 17039.935546875, 15177.265625, 14436.8125, 12550.7841796875, 12092.5595703125, 12216.923828125, 11884.5419921875, 12029.326171875, 11099.3759765625, 10119.5546875, 10132.3134765625, 9674.6240234375, 9286.595703125, 9118.138671875, 10015.9794921875, 7477.1279296875, 6890.60693359375, 6826.728515625, 5711.0419921875, 5556.740234375, 5228.8212890625, 5141.27783203125, 4701.62060546875, 4684.58837890625, 4728.84326171875, 10728.0458984375, 7681.88671875, 6186.10009765625, 6035.45458984375, 5809.51025390625, 6484.87939453125, 5868.46337890625], \"Total\": [90709.0, 59283.0, 113761.0, 190708.0, 182416.0, 41740.0, 39374.0, 81117.0, 32224.0, 32702.0, 31124.0, 130795.0, 105094.0, 69450.0, 117016.0, 27560.0, 136828.0, 61890.0, 25451.0, 58088.0, 57992.0, 91471.0, 51797.0, 49677.0, 71496.0, 79517.0, 28315.0, 72371.0, 17040.0, 16866.0, 190708.734375, 182416.046875, 117016.8203125, 79517.859375, 72371.5625, 51137.984375, 48732.20703125, 42037.43359375, 39788.03515625, 38655.80078125, 39306.453125, 35205.69140625, 34080.12890625, 33045.94921875, 33046.1015625, 29624.62109375, 28125.357421875, 25175.986328125, 23884.4140625, 21530.53515625, 21235.451171875, 20353.232421875, 23330.37109375, 20734.716796875, 19677.521484375, 19086.83203125, 19217.4140625, 18945.185546875, 18019.572265625, 17504.09375, 33259.69140625, 130795.9921875, 26503.55859375, 144829.765625, 58011.390625, 43717.33203125, 125788.484375, 35791.8828125, 37907.328125, 81117.0859375, 30399.1640625, 58506.69921875, 38845.1015625, 48089.8359375, 116256.6015625, 117751.15625, 113188.4765625, 63566.89453125, 60607.203125, 131222.75, 52316.53515625, 113761.5078125, 69450.1640625, 61890.8515625, 58088.05859375, 57992.87890625, 51797.89453125, 49677.71484375, 39545.9453125, 38120.29296875, 27358.9921875, 25793.796875, 22161.7109375, 21299.263671875, 19412.9375, 19309.66796875, 17909.93359375, 16331.7158203125, 15489.9091796875, 14852.1875, 15098.576171875, 14374.34375, 14147.7138671875, 14026.427734375, 13584.919921875, 12697.015625, 12342.68359375, 12158.55078125, 11787.9833984375, 11161.693359375, 11107.2333984375, 13154.3271484375, 25466.12890625, 21913.955078125, 15672.435546875, 32490.447265625, 105094.1328125, 71496.0703125, 91471.1953125, 136828.4375, 45165.78515625, 42988.0859375, 131222.75, 27301.1875, 18584.765625, 113188.4765625, 117751.15625, 116256.6015625, 45271.78125, 39072.62109375, 50832.48046875, 41652.890625, 59283.921875, 41740.80859375, 32702.013671875, 25451.4453125, 16866.27734375, 10674.01171875, 12032.015625, 11530.9921875, 8618.2958984375, 8264.78515625, 7166.33740234375, 6368.7216796875, 5730.62548828125, 5351.23876953125, 5240.6689453125, 4910.8173828125, 4698.50732421875, 4666.73291015625, 4430.8515625, 4513.1884765625, 4122.65283203125, 4941.44970703125, 3348.59814453125, 3282.698974609375, 2954.267578125, 3167.959716796875, 2882.002197265625, 2709.6484375, 2799.3828125, 2610.503662109375, 5677.37744140625, 8946.1630859375, 28315.44140625, 16124.7236328125, 81117.0859375, 55015.01171875, 19296.51953125, 19826.595703125, 28852.921875, 131222.75, 15145.7958984375, 13455.1083984375, 90709.09375, 39374.75390625, 32224.720703125, 31124.697265625, 27560.71484375, 17040.7734375, 15178.1083984375, 14437.650390625, 12551.6279296875, 12093.380859375, 12217.7861328125, 11885.3876953125, 12030.1865234375, 11100.216796875, 10120.3994140625, 10133.1748046875, 9675.4677734375, 9287.412109375, 9118.9638671875, 10017.07421875, 7477.97412109375, 6891.44140625, 6827.5634765625, 5711.875, 5557.55810546875, 5229.642578125, 5142.11962890625, 4702.43310546875, 4685.40478515625, 4729.712890625, 11091.486328125, 16600.94140625, 11449.9306640625, 12326.130859375, 20545.88671875, 125788.484375, 130795.9921875], \"Category\": [\"Default\", \"Default\", \"Default\", \"Default\", \"Default\", \"Default\", \"Default\", \"Default\", \"Default\", \"Default\", \"Default\", \"Default\", \"Default\", \"Default\", \"Default\", \"Default\", \"Default\", \"Default\", \"Default\", \"Default\", \"Default\", \"Default\", \"Default\", \"Default\", \"Default\", \"Default\", \"Default\", \"Default\", \"Default\", \"Default\", \"Topic1\", \"Topic1\", \"Topic1\", \"Topic1\", \"Topic1\", \"Topic1\", \"Topic1\", \"Topic1\", \"Topic1\", \"Topic1\", \"Topic1\", \"Topic1\", \"Topic1\", \"Topic1\", \"Topic1\", \"Topic1\", \"Topic1\", \"Topic1\", \"Topic1\", \"Topic1\", \"Topic1\", \"Topic1\", \"Topic1\", \"Topic1\", \"Topic1\", \"Topic1\", \"Topic1\", \"Topic1\", \"Topic1\", \"Topic1\", \"Topic1\", \"Topic1\", \"Topic1\", \"Topic1\", \"Topic1\", \"Topic1\", \"Topic1\", \"Topic1\", \"Topic1\", \"Topic1\", \"Topic1\", \"Topic1\", \"Topic1\", \"Topic1\", \"Topic1\", \"Topic1\", \"Topic1\", \"Topic1\", \"Topic1\", \"Topic1\", \"Topic1\", \"Topic2\", \"Topic2\", \"Topic2\", \"Topic2\", \"Topic2\", \"Topic2\", \"Topic2\", \"Topic2\", \"Topic2\", \"Topic2\", \"Topic2\", \"Topic2\", \"Topic2\", \"Topic2\", \"Topic2\", \"Topic2\", \"Topic2\", \"Topic2\", \"Topic2\", \"Topic2\", \"Topic2\", \"Topic2\", \"Topic2\", \"Topic2\", \"Topic2\", \"Topic2\", \"Topic2\", \"Topic2\", \"Topic2\", \"Topic2\", \"Topic2\", \"Topic2\", \"Topic2\", \"Topic2\", \"Topic2\", \"Topic2\", \"Topic2\", \"Topic2\", \"Topic2\", \"Topic2\", \"Topic2\", \"Topic2\", \"Topic2\", \"Topic2\", \"Topic2\", \"Topic2\", \"Topic2\", \"Topic2\", \"Topic2\", \"Topic2\", \"Topic2\", \"Topic3\", \"Topic3\", \"Topic3\", \"Topic3\", \"Topic3\", \"Topic3\", \"Topic3\", \"Topic3\", \"Topic3\", \"Topic3\", \"Topic3\", \"Topic3\", \"Topic3\", \"Topic3\", \"Topic3\", \"Topic3\", \"Topic3\", \"Topic3\", \"Topic3\", \"Topic3\", \"Topic3\", \"Topic3\", \"Topic3\", \"Topic3\", \"Topic3\", \"Topic3\", \"Topic3\", \"Topic3\", \"Topic3\", \"Topic3\", \"Topic3\", \"Topic3\", \"Topic3\", \"Topic3\", \"Topic3\", \"Topic3\", \"Topic3\", \"Topic3\", \"Topic3\", \"Topic3\", \"Topic3\", \"Topic3\", \"Topic4\", \"Topic4\", \"Topic4\", \"Topic4\", \"Topic4\", \"Topic4\", \"Topic4\", \"Topic4\", \"Topic4\", \"Topic4\", \"Topic4\", \"Topic4\", \"Topic4\", \"Topic4\", \"Topic4\", \"Topic4\", \"Topic4\", \"Topic4\", \"Topic4\", \"Topic4\", \"Topic4\", \"Topic4\", \"Topic4\", \"Topic4\", \"Topic4\", \"Topic4\", \"Topic4\", \"Topic4\", \"Topic4\", \"Topic4\", \"Topic4\", \"Topic4\", \"Topic4\", \"Topic4\", \"Topic4\", \"Topic4\", \"Topic4\"], \"logprob\": [30.0, 29.0, 28.0, 27.0, 26.0, 25.0, 24.0, 23.0, 22.0, 21.0, 20.0, 19.0, 18.0, 17.0, 16.0, 15.0, 14.0, 13.0, 12.0, 11.0, 10.0, 9.0, 8.0, 7.0, 6.0, 5.0, 4.0, 3.0, 2.0, 1.0, -3.6965999603271484, -3.740999937057495, -4.184999942779541, -4.571400165557861, -4.665500164031982, -5.012800216674805, -5.060999870300293, -5.208799839019775, -5.263800144195557, -5.292699813842773, -5.276000022888184, -5.386099815368652, -5.418600082397461, -5.44950008392334, -5.44950008392334, -5.558800220489502, -5.6107001304626465, -5.721499919891357, -5.774099826812744, -5.877900123596191, -5.89169979095459, -5.934100151062012, -5.797599792480469, -5.915599822998047, -5.967899799346924, -5.9984002113342285, -5.991600036621094, -6.005799770355225, -6.0559000968933105, -6.08489990234375, -5.447199821472168, -4.11959981918335, -5.690199851989746, -4.114500045776367, -4.9822998046875, -5.248899936676025, -4.313300132751465, -5.434599876403809, -5.391600131988525, -4.7606000900268555, -5.5854997634887695, -5.061999797821045, -5.3933000564575195, -5.283599853515625, -4.697299957275391, -4.752600193023682, -4.818600177764893, -5.138700008392334, -5.194499969482422, -4.888199806213379, -5.419899940490723, -3.7648000717163086, -4.258299827575684, -4.373600006103516, -4.436999797821045, -4.438600063323975, -4.551599979400635, -4.593400001525879, -4.821499824523926, -4.8582000732421875, -5.189899921417236, -5.248799800872803, -5.400599956512451, -5.440299987792969, -5.5329999923706055, -5.538400173187256, -5.61359977722168, -5.705900192260742, -5.758800029754639, -5.80079984664917, -5.78439998626709, -5.833600044250488, -5.849400043487549, -5.858099937438965, -5.889999866485596, -5.957600116729736, -5.985899925231934, -6.000999927520752, -6.031899929046631, -6.08650016784668, -6.091400146484375, -5.922900199890137, -5.2835001945495605, -5.430300235748291, -5.761600017547607, -5.078199863433838, -3.997499942779541, -4.378499984741211, -4.17140007019043, -3.8433001041412354, -4.920100212097168, -5.015900135040283, -4.314300060272217, -5.394199848175049, -5.648499965667725, -4.565299987792969, -4.56879997253418, -4.667099952697754, -5.2835001945495605, -5.376299858093262, -5.327199935913086, -5.387499809265137, -2.868799924850464, -3.2197000980377197, -3.46370005607605, -3.714400053024292, -4.125899791717529, -4.583399772644043, -4.463600158691406, -4.506199836730957, -4.797299861907959, -4.839200019836426, -4.981900215148926, -5.099899768829346, -5.20550012588501, -5.27400016784668, -5.2947998046875, -5.359899997711182, -5.404099941253662, -5.410900115966797, -5.462699890136719, -5.444300174713135, -5.534900188446045, -5.353700160980225, -5.7428998947143555, -5.762700080871582, -5.868199825286865, -5.798299789428711, -5.892899990081787, -5.954599857330322, -5.922100067138672, -5.9918999671936035, -5.412199974060059, -5.216100215911865, -4.588600158691406, -5.019100189208984, -4.222599983215332, -4.795400142669678, -5.199999809265137, -5.255799770355225, -5.184999942779541, -4.918499946594238, -5.34250020980835, -5.388599872589111, -2.359600067138672, -3.1940999031066895, -3.3945000171661377, -3.4291999340057373, -3.550800085067749, -4.031599998474121, -4.14739990234375, -4.197400093078613, -4.337399959564209, -4.374599933624268, -4.3643999099731445, -4.392000198364258, -4.379899978637695, -4.460299968719482, -4.552700042724609, -4.551499843597412, -4.597700119018555, -4.638599872589111, -4.656899929046631, -4.563000202178955, -4.855400085449219, -4.936999797821045, -4.946400165557861, -5.124800205230713, -5.152200222015381, -5.2129998207092285, -5.229899883270264, -5.319300174713135, -5.32289981842041, -5.313499927520752, -4.49429988861084, -4.8282999992370605, -5.044899940490723, -5.069499969482422, -5.107699871063232, -4.997700214385986, -5.097599983215332], \"loglift\": [30.0, 29.0, 28.0, 27.0, 26.0, 25.0, 24.0, 23.0, 22.0, 21.0, 20.0, 19.0, 18.0, 17.0, 16.0, 15.0, 14.0, 13.0, 12.0, 11.0, 10.0, 9.0, 8.0, 7.0, 6.0, 5.0, 4.0, 3.0, 2.0, 1.0, 0.6414999961853027, 0.6414999961853027, 0.6414999961853027, 0.6414999961853027, 0.6414999961853027, 0.6414999961853027, 0.6414999961853027, 0.6414999961853027, 0.6414999961853027, 0.6414999961853027, 0.6414999961853027, 0.6414999961853027, 0.6414999961853027, 0.6414999961853027, 0.6414999961853027, 0.6414999961853027, 0.6414999961853027, 0.6414999961853027, 0.6414999961853027, 0.6414999961853027, 0.6414999961853027, 0.6414999961853027, 0.6414999961853027, 0.6414999961853027, 0.6414999961853027, 0.6414999961853027, 0.6414999961853027, 0.6414999961853027, 0.6414999961853027, 0.6414999961853027, 0.6373000144958496, 0.5956000089645386, 0.621399998664856, 0.49880000948905945, 0.5460000038146973, 0.5622000098228455, 0.4410000145435333, 0.5764999985694885, 0.5620999932289124, 0.4323999881744385, 0.5889000296592712, 0.4577000141143799, 0.5360000133514404, 0.43220001459121704, 0.13580000400543213, 0.06769999861717224, 0.041200000792741776, 0.29809999465942383, 0.289900004863739, -0.17630000412464142, 0.21170000731945038, 1.089900016784668, 1.089900016784668, 1.089900016784668, 1.089900016784668, 1.089900016784668, 1.089900016784668, 1.089900016784668, 1.089900016784668, 1.089900016784668, 1.089900016784668, 1.089900016784668, 1.089900016784668, 1.089900016784668, 1.089900016784668, 1.089900016784668, 1.089900016784668, 1.089900016784668, 1.089900016784668, 1.089900016784668, 1.089900016784668, 1.089900016784668, 1.089900016784668, 1.089900016784668, 1.089900016784668, 1.089900016784668, 1.089900016784668, 1.089900016784668, 1.089900016784668, 1.089900016784668, 1.089900016784668, 1.0892000198364258, 1.0680999755859375, 1.0714999437332153, 1.0753999948501587, 1.0297000408172607, 0.9366000294685364, 0.9406999945640564, 0.9014999866485596, 0.8267999887466431, 0.8583999872207642, 0.8120999932289124, 0.397599995136261, 0.8877000212669373, 1.0181000232696533, 0.2944999933242798, 0.2515000104904175, 0.16599999368190765, 0.4927000105381012, 0.5472000241279602, 0.33320000767707825, 0.47200000286102295, 2.637700080871582, 2.637700080871582, 2.637700080871582, 2.637700080871582, 2.637700080871582, 2.637700080871582, 2.637700080871582, 2.637700080871582, 2.6375999450683594, 2.6375999450683594, 2.6375999450683594, 2.6375999450683594, 2.6375999450683594, 2.6375999450683594, 2.6375999450683594, 2.6375999450683594, 2.6375999450683594, 2.6375999450683594, 2.6375999450683594, 2.6375999450683594, 2.637500047683716, 2.637500047683716, 2.637500047683716, 2.637500047683716, 2.637500047683716, 2.637500047683716, 2.637399911880493, 2.637399911880493, 2.637399911880493, 2.637399911880493, 2.440200090408325, 2.18149995803833, 1.6569000482559204, 1.7893999814987183, 0.9703999757766724, 0.7857999801635742, 1.4290000200271606, 1.3460999727249146, 1.041700005531311, -0.20649999380111694, 1.5285999774932861, 1.6009999513626099, 2.7216999530792236, 2.7216999530792236, 2.7216999530792236, 2.7216999530792236, 2.72160005569458, 2.72160005569458, 2.72160005569458, 2.72160005569458, 2.72160005569458, 2.72160005569458, 2.72160005569458, 2.72160005569458, 2.72160005569458, 2.72160005569458, 2.72160005569458, 2.72160005569458, 2.72160005569458, 2.72160005569458, 2.72160005569458, 2.72160005569458, 2.72160005569458, 2.72160005569458, 2.72160005569458, 2.7214999198913574, 2.7214999198913574, 2.7214999198913574, 2.7214999198913574, 2.7214999198913574, 2.7214999198913574, 2.7214999198913574, 2.6884000301361084, 1.9510999917984009, 2.1059999465942383, 2.0076000690460205, 1.4585000276565552, -0.2433999925851822, -0.3824000060558319]}, \"token.table\": {\"Topic\": [2, 1, 3, 4, 1, 2, 3, 2, 4, 2, 3, 2, 3, 2, 2, 1, 4, 1, 4, 1, 2, 1, 4, 4, 3, 2, 4, 4, 4, 2, 4, 2, 2, 2, 3, 4, 4, 3, 1, 3, 4, 1, 2, 3, 4, 4, 4, 4, 1, 2, 2, 1, 1, 1, 2, 1, 2, 4, 3, 4, 2, 1, 3, 1, 4, 1, 3, 1, 3, 1, 4, 4, 1, 2, 3, 3, 3, 1, 2, 1, 2, 3, 1, 4, 4, 3, 1, 3, 3, 4, 1, 2, 3, 2, 1, 2, 3, 1, 2, 3, 1, 2, 3, 4, 2, 3, 2, 3, 1, 3, 1, 1, 4, 2, 2, 1, 2, 3, 2, 3, 3, 1, 1, 2, 3, 2, 1, 2, 3, 1, 2, 3, 4, 1, 2, 4, 4, 1, 3, 4, 1, 4, 1, 2, 3, 1, 4, 1, 2, 3, 1, 2, 3, 2, 2, 1, 1, 2, 2, 2, 3, 1, 2, 1, 1, 2, 3, 1, 2, 3, 2, 1, 4, 1, 1, 2, 4, 1, 3, 3, 4, 4, 3, 1, 3, 1, 1, 2, 3, 1, 2, 3, 1, 2, 3, 2, 2, 1, 3, 2, 3, 1, 4, 1, 1, 3, 1, 3, 4, 1, 2, 3, 2, 1, 4, 1, 1, 1, 1, 3, 4, 1, 1, 1, 3, 2, 1, 2, 1, 2, 3, 3, 1, 3, 4, 3, 1, 3, 3, 1, 1, 2, 2, 3], \"Freq\": [0.9999200105667114, 0.9999807476997375, 0.9997606873512268, 0.9997822642326355, 0.8320585489273071, 0.09299789369106293, 0.07493159174919128, 0.9999827146530151, 0.9998697638511658, 0.9855520129203796, 0.01442022155970335, 0.9999478459358215, 0.9998496174812317, 0.9999679327011108, 0.9999817609786987, 0.7172238230705261, 0.2827816605567932, 0.9999751448631287, 0.9999775886535645, 0.8111277222633362, 0.1888548731803894, 0.9999740123748779, 0.9998903870582581, 0.9999269843101501, 0.999891996383667, 0.999984860420227, 0.9999673962593079, 0.9999685287475586, 0.9999013543128967, 0.9999955296516418, 0.9999499917030334, 0.9999517202377319, 0.999937891960144, 0.9999618530273438, 0.999982476234436, 0.9999605417251587, 0.9998771548271179, 0.9999052286148071, 0.6700869202613831, 0.32986050844192505, 0.9999808669090271, 0.12631113827228546, 0.23999115824699402, 0.6336795091629028, 0.9999136328697205, 0.9999356269836426, 0.9999879598617554, 0.999907910823822, 0.2066829949617386, 0.7933217287063599, 0.9999412894248962, 0.999973475933075, 0.9999884963035583, 0.9999752044677734, 0.9999322891235352, 0.24260209500789642, 0.7573726177215576, 0.9999776482582092, 0.9998416304588318, 0.9999549388885498, 0.9998889565467834, 0.9999666810035706, 0.999980628490448, 0.9237068891525269, 0.07628553360700607, 0.624994695186615, 0.37498974800109863, 0.8112347722053528, 0.18875184655189514, 0.9487431645393372, 0.051218513399362564, 0.9999556541442871, 0.650616466999054, 0.3390132784843445, 0.01036001369357109, 0.9998078346252441, 0.9998723268508911, 0.17173711955547333, 0.8282498121261597, 0.45667898654937744, 0.5390502214431763, 0.004249405115842819, 0.9551286697387695, 0.044863760471343994, 0.9999174475669861, 0.9999844431877136, 0.645331084728241, 0.35458651185035706, 0.9999529123306274, 0.9999359250068665, 0.22862938046455383, 0.7686560153961182, 0.0027114246040582657, 0.9999200701713562, 0.5019902586936951, 0.3410705327987671, 0.15693898499011993, 0.8669902682304382, 0.13300442695617676, 0.9999139308929443, 0.6030367016792297, 0.3969581127166748, 0.03272780403494835, 0.967228353023529, 0.9999561905860901, 0.9999242424964905, 0.9306547045707703, 0.06930407881736755, 0.5718547701835632, 0.4281623661518097, 0.9999792575836182, 0.5102980136871338, 0.4896102547645569, 0.9999446272850037, 0.9999165534973145, 0.3770415186882019, 0.581148624420166, 0.04179397225379944, 0.9817032217979431, 0.018253209069371223, 0.9995060563087463, 0.9999961256980896, 0.9088387489318848, 0.08184599876403809, 0.009291279129683971, 0.9999654293060303, 0.44241687655448914, 0.5503427982330322, 0.007245131302624941, 0.44139450788497925, 0.5004239082336426, 0.05818350985646248, 0.9998468160629272, 0.8182942867279053, 0.1301470547914505, 0.05155479907989502, 0.9999740719795227, 0.8998303413391113, 0.0014931097393855453, 0.09867396205663681, 0.45965343713760376, 0.5402652621269226, 0.7092843055725098, 0.2892543375492096, 0.0014630256919190288, 0.9957398176193237, 0.004239365924149752, 0.9999654293060303, 0.701421856880188, 0.2985512614250183, 0.5633659958839417, 0.4323948919773102, 0.004229257814586163, 0.9999406933784485, 0.9999832510948181, 0.9999784827232361, 0.058417171239852905, 0.9415690898895264, 0.9999760985374451, 0.999969482421875, 0.9997684955596924, 0.000684185535646975, 0.999290943145752, 0.9999682307243347, 0.99997878074646, 0.9999862313270569, 0.999886691570282, 0.14218682050704956, 0.8578023910522461, 0.999570906162262, 0.9999660849571228, 0.9999374151229858, 0.9998927712440491, 0.9999375343322754, 0.9999922513961792, 0.9999691247940063, 0.999849259853363, 0.923620879650116, 0.0763440802693367, 0.9996522665023804, 0.9999516606330872, 0.9999546408653259, 0.999915599822998, 0.9999826550483704, 0.9996970295906067, 0.9999896883964539, 0.5308220386505127, 0.4691685140132904, 0.9997066259384155, 0.13633106648921967, 0.8169241547584534, 0.04673789441585541, 0.5017862915992737, 0.29553332924842834, 0.20268310606479645, 0.9999065399169922, 0.9999547004699707, 0.9999564290046692, 0.999904990196228, 0.9999637603759766, 0.9997366666793823, 0.9999412298202515, 0.9998840689659119, 0.9999790191650391, 0.9370560646057129, 0.06291929632425308, 0.9800570607185364, 0.01992185227572918, 0.9998995661735535, 0.31230777502059937, 0.4128797650337219, 0.2747824192047119, 0.9999856352806091, 0.5371984243392944, 0.4627448320388794, 0.9999517202377319, 0.9999803900718689, 0.9999668598175049, 0.05125606060028076, 0.8208014965057373, 0.1278759390115738, 0.9999942779541016, 0.9999394416809082, 0.9999892115592957, 0.9998908638954163, 0.9999495148658752, 0.7035467624664307, 0.2964334189891815, 0.13862299919128418, 0.8613759875297546, 0.9998070597648621, 0.9999690055847168, 0.9999929666519165, 0.9998429417610168, 0.9998943209648132, 0.9998335838317871, 0.9999712705612183, 0.9998213648796082, 0.9997870922088623, 0.9999608397483826, 0.5486071109771729, 0.45138871669769287, 0.9783583283424377, 0.02159731462597847], \"Term\": [\"able\", \"add\", \"allergies\", \"almond\", \"also\", \"also\", \"also\", \"amazon\", \"aroma\", \"around\", \"around\", \"arrive\", \"baby\", \"back\", \"bag\", \"bake\", \"bake\", \"bar\", \"bean\", \"better\", \"better\", \"bite\", \"bitter\", \"blend\", \"bone\", \"box\", \"bread\", \"brew\", \"butter\", \"buy\", \"cake\", \"candy\", \"carry\", \"case\", \"cat\", \"cereal\", \"chai\", \"chew\", \"chicken\", \"chicken\", \"chocolate\", \"clean\", \"clean\", \"clean\", \"cocoa\", \"coconut\", \"coffee\", \"coffees\", \"come\", \"come\", \"company\", \"cook\", \"cookie\", \"cookies\", \"cost\", \"could\", \"could\", \"cup\", \"dandruff\", \"dark\", \"deal\", \"delicious\", \"dog\", \"drink\", \"drink\", \"dry\", \"dry\", \"eat\", \"eat\", \"enjoy\", \"enjoy\", \"espresso\", \"even\", \"even\", \"even\", \"fee\", \"feed\", \"find\", \"find\", \"first\", \"first\", \"first\", \"flavor\", \"flavor\", \"flour\", \"food\", \"foods\", \"foods\", \"formula\", \"french\", \"get\", \"get\", \"get\", \"gift\", \"give\", \"give\", \"give\", \"good\", \"good\", \"grain\", \"great\", \"great\", \"grind\", \"grind\", \"grocery\", \"hair\", \"happy\", \"happy\", \"help\", \"help\", \"hot\", \"ice\", \"ice\", \"item\", \"jar\", \"know\", \"know\", \"know\", \"last\", \"last\", \"lbs\", \"like\", \"little\", \"little\", \"little\", \"local\", \"look\", \"look\", \"look\", \"love\", \"love\", \"love\", \"machine\", \"make\", \"make\", \"make\", \"milk\", \"mix\", \"mix\", \"mix\", \"morning\", \"morning\", \"much\", \"much\", \"much\", \"nice\", \"nice\", \"oil\", \"old\", \"old\", \"one\", \"one\", \"one\", \"open\", \"order\", \"organic\", \"pack\", \"pack\", \"package\", \"pay\", \"pet\", \"please\", \"please\", \"popcorn\", \"pretty\", \"price\", \"problems\", \"product\", \"product\", \"puppy\", \"purchase\", \"quite\", \"raisins\", \"real\", \"really\", \"receive\", \"recipes\", \"recommend\", \"recommend\", \"research\", \"rich\", \"roast\", \"salmon\", \"salt\", \"sardines\", \"sauce\", \"say\", \"say\", \"scalp\", \"see\", \"see\", \"see\", \"seem\", \"seem\", \"seem\", \"sell\", \"send\", \"serve\", \"shampoo\", \"ship\", \"skin\", \"smell\", \"smooth\", \"snack\", \"soft\", \"soft\", \"something\", \"something\", \"starbucks\", \"start\", \"start\", \"start\", \"store\", \"strong\", \"strong\", \"stuff\", \"sugar\", \"sweet\", \"switch\", \"switch\", \"switch\", \"taste\", \"tasty\", \"tea\", \"teeth\", \"thank\", \"think\", \"think\", \"time\", \"time\", \"train\", \"treat\", \"try\", \"tuna\", \"vanilla\", \"vet\", \"water\", \"weight\", \"wet\", \"without\", \"would\", \"would\", \"years\", \"years\"]}, \"R\": 30, \"lambda.step\": 0.01, \"plot.opts\": {\"xlab\": \"PC1\", \"ylab\": \"PC2\"}, \"topic.order\": [1, 4, 2, 3]};\n",
       "\n",
       "function LDAvis_load_lib(url, callback){\n",
       "  var s = document.createElement('script');\n",
       "  s.src = url;\n",
       "  s.async = true;\n",
       "  s.onreadystatechange = s.onload = callback;\n",
       "  s.onerror = function(){console.warn(\"failed to load library \" + url);};\n",
       "  document.getElementsByTagName(\"head\")[0].appendChild(s);\n",
       "}\n",
       "\n",
       "if(typeof(LDAvis) !== \"undefined\"){\n",
       "   // already loaded: just create the visualization\n",
       "   !function(LDAvis){\n",
       "       new LDAvis(\"#\" + \"ldavis_el1608822684074343123732777504\", ldavis_el1608822684074343123732777504_data);\n",
       "   }(LDAvis);\n",
       "}else if(typeof define === \"function\" && define.amd){\n",
       "   // require.js is available: use it to load d3/LDAvis\n",
       "   require.config({paths: {d3: \"https://cdnjs.cloudflare.com/ajax/libs/d3/3.5.5/d3.min\"}});\n",
       "   require([\"d3\"], function(d3){\n",
       "      window.d3 = d3;\n",
       "      LDAvis_load_lib(\"https://cdn.rawgit.com/bmabey/pyLDAvis/files/ldavis.v1.0.0.js\", function(){\n",
       "        new LDAvis(\"#\" + \"ldavis_el1608822684074343123732777504\", ldavis_el1608822684074343123732777504_data);\n",
       "      });\n",
       "    });\n",
       "}else{\n",
       "    // require.js not available: dynamically load d3 & LDAvis\n",
       "    LDAvis_load_lib(\"https://cdnjs.cloudflare.com/ajax/libs/d3/3.5.5/d3.min.js\", function(){\n",
       "         LDAvis_load_lib(\"https://cdn.rawgit.com/bmabey/pyLDAvis/files/ldavis.v1.0.0.js\", function(){\n",
       "                 new LDAvis(\"#\" + \"ldavis_el1608822684074343123732777504\", ldavis_el1608822684074343123732777504_data);\n",
       "            })\n",
       "         });\n",
       "}\n",
       "</script>"
      ],
      "text/plain": [
       "PreparedData(topic_coordinates=              x         y  topics  cluster       Freq\n",
       "topic                                                \n",
       "0      0.150857  0.111111       1        1  52.647602\n",
       "3      0.213416  0.148028       2        1  33.623703\n",
       "1      0.033726 -0.350895       3        1   7.152275\n",
       "2     -0.398000  0.091756       4        1   6.576423, topic_info=         Term           Freq          Total Category  logprob  loglift\n",
       "395    coffee   90709.000000   90709.000000  Default  30.0000  30.0000\n",
       "6        food   59283.000000   59283.000000  Default  29.0000  29.0000\n",
       "2         buy  113761.000000  113761.000000  Default  28.0000  28.0000\n",
       "9        like  190708.000000  190708.000000  Default  27.0000  27.0000\n",
       "196     taste  182416.000000  182416.000000  Default  26.0000  26.0000\n",
       "...       ...            ...            ...      ...      ...      ...\n",
       "477   morning    6186.100098   11449.930664   Topic4  -5.0449   2.1060\n",
       "995       ice    6035.454590   12326.130859   Topic4  -5.0695   2.0076\n",
       "1520     bake    5809.510254   20545.886719   Topic4  -5.1077   1.4585\n",
       "78       make    6484.879395  125788.484375   Topic4  -4.9977  -0.2434\n",
       "75     flavor    5868.463379  130795.992188   Topic4  -5.0976  -0.3824\n",
       "\n",
       "[211 rows x 6 columns], token_table=      Topic      Freq       Term\n",
       "term                            \n",
       "348       2  0.999920       able\n",
       "423       1  0.999981        add\n",
       "1088      3  0.999761  allergies\n",
       "2349      4  0.999782     almond\n",
       "150       1  0.832059       also\n",
       "...     ...       ...        ...\n",
       "466       1  0.999961    without\n",
       "120       1  0.548607      would\n",
       "120       2  0.451389      would\n",
       "243       2  0.978358      years\n",
       "243       3  0.021597      years\n",
       "\n",
       "[244 rows x 3 columns], R=30, lambda_step=0.01, plot_opts={'xlab': 'PC1', 'ylab': 'PC2'}, topic_order=[1, 4, 2, 3])"
      ]
     },
     "execution_count": 25,
     "metadata": {},
     "output_type": "execute_result"
    }
   ],
   "source": [
    "pyLDAvis.enable_notebook()\n",
    "vis = pyLDAvis.gensim.prepare(lda_model, corpus, id2word)\n",
    "vis"
   ]
  },
  {
   "cell_type": "markdown",
   "metadata": {},
   "source": [
    "Each bubble on the left-hand side plot represents a topic. The larger the bubble, the more prevalent is that topic. A good topic model will have fairly big, non-overlapping bubbles scattered throughout the chart instead of being clustered in one quadrant. A model with too many topics, will typically have many overlaps, small sized bubbles clustered in one region of the chart. The right-hand side bars represent the words,form the selected topic."
   ]
  },
  {
   "cell_type": "markdown",
   "metadata": {},
   "source": [
    "### Visualize the topics-keywords"
   ]
  },
  {
   "cell_type": "code",
   "execution_count": 27,
   "metadata": {},
   "outputs": [
    {
     "data": {
      "image/png": "[encoded data removed]",
      "text/plain": [
       "<Figure size 720x720 with 4 Axes>"
      ]
     },
     "metadata": {
      "needs_background": "light"
     },
     "output_type": "display_data"
    }
   ],
   "source": [
    "from matplotlib import pyplot as plt\n",
    "from wordcloud import WordCloud, STOPWORDS\n",
    "import matplotlib.colors as mcolors\n",
    "\n",
    "cols = [color for name, color in mcolors.TABLEAU_COLORS.items()]  # more colors: 'mcolors.XKCD_COLORS'\n",
    "\n",
    "cloud = WordCloud(stopwords=stop_words,\n",
    "                  background_color='white',\n",
    "                  width=2500,\n",
    "                  height=1800,\n",
    "                  max_words=10,\n",
    "                  colormap='tab10',\n",
    "                  color_func=lambda *args, **kwargs: cols[i],\n",
    "                  prefer_horizontal=1.0)\n",
    "\n",
    "topics = lda_model.show_topics(formatted=False)\n",
    "\n",
    "fig, axes = plt.subplots(2, 2, figsize=(10,10), sharex=True, sharey=True)\n",
    "\n",
    "for i, ax in enumerate(axes.flatten()):\n",
    "    fig.add_subplot(ax)\n",
    "    topic_words = dict(topics[i][1])\n",
    "    cloud.generate_from_frequencies(topic_words, max_font_size=300)\n",
    "    plt.gca().imshow(cloud)\n",
    "    plt.gca().set_title('Topic ' + str(i), fontdict=dict(size=16))\n",
    "    plt.gca().axis('off')\n",
    "\n",
    "\n",
    "plt.subplots_adjust(wspace=0, hspace=0)\n",
    "plt.axis('off')\n",
    "plt.margins(x=0, y=0)\n",
    "plt.tight_layout()\n",
    "plt.show()"
   ]
  },
  {
   "cell_type": "markdown",
   "metadata": {},
   "source": [
    "### Evaluating topic model quality"
   ]
  },
  {
   "cell_type": "markdown",
   "metadata": {},
   "source": [
    "We can use perplexity and coherence scores as measures to evaluate the topic model. Typically, lower the perplexity, the better the model. Similarly, the lower the UMass score and the higher the Cv score in coherence, the better the model."
   ]
  },
  {
   "cell_type": "code",
   "execution_count": 28,
   "metadata": {},
   "outputs": [
    {
     "name": "stdout",
     "output_type": "stream",
     "text": [
      "\n",
      "Perplexity:  -7.852977056346874\n"
     ]
    }
   ],
   "source": [
    "# Compute Perplexity\n",
    "print('\\nPerplexity: ', lda_model.log_perplexity(corpus))  # a measure of how good the model is. lower the better."
   ]
  },
  {
   "cell_type": "code",
   "execution_count": 29,
   "metadata": {},
   "outputs": [
    {
     "name": "stdout",
     "output_type": "stream",
     "text": [
      "Avg. Coherence Score: -2.072698701772977\n"
     ]
    }
   ],
   "source": [
    "topics_coherences = lda_model.top_topics(corpus, topn=5)\n",
    "avg_coherence_score = np.mean([item[1] for item in topics_coherences])\n",
    "print('Avg. Coherence Score:', avg_coherence_score)"
   ]
  },
  {
   "cell_type": "markdown",
   "metadata": {},
   "source": [
    "\n",
    "Topic coherence is a complex topic in its own and it can be used to measure the quality of topic models to some extent. Typically, a set of statements is said to be coherent if they support each other. Topic models are unsupervised learning based models that are trained on unstructured text data, making it difficult to measure the quality of outputs."
   ]
  },
  {
   "cell_type": "code",
   "execution_count": 31,
   "metadata": {},
   "outputs": [
    {
     "name": "stdout",
     "output_type": "stream",
     "text": [
      "Topic #1:\n",
      "['like', 'taste', 'good', 'flavor', 'try', 'make', 'tea', 'really', 'great', 'one']\n",
      "\n",
      "Topic #2:\n",
      "['food', 'dog', 'treat', 'cat', 'hair', 'eat', 'salmon', 'grain', 'chew', 'dry']\n",
      "\n",
      "Topic #3:\n",
      "['coffee', 'chocolate', 'cup', 'bean', 'milk', 'roast', 'blend', 'dark', 'cake', 'coconut']\n",
      "\n",
      "Topic #4:\n",
      "['buy', 'get', 'product', 'find', 'order', 'love', 'price', 'time', 'bag', 'box']\n",
      "\n"
     ]
    }
   ],
   "source": [
    "topics = [[(term, round(wt, 3)) \n",
    "               for term, wt in lda_model.show_topic(n, topn=10)] \n",
    "                   for n in range(0, lda_model.num_topics)]\n",
    "\n",
    "for idx, topic in enumerate(topics):\n",
    "    print('Topic #'+str(idx+1)+':')\n",
    "    print([term for term, wt in topic])\n",
    "    print()"
   ]
  },
  {
   "cell_type": "code",
   "execution_count": 33,
   "metadata": {},
   "outputs": [
    {
     "data": {
      "text/html": [
       "<div>\n",
       "<style scoped>\n",
       "    .dataframe tbody tr th:only-of-type {\n",
       "        vertical-align: middle;\n",
       "    }\n",
       "\n",
       "    .dataframe tbody tr th {\n",
       "        vertical-align: top;\n",
       "    }\n",
       "\n",
       "    .dataframe thead th {\n",
       "        text-align: right;\n",
       "    }\n",
       "</style>\n",
       "<table border=\"1\" class=\"dataframe\">\n",
       "  <thead>\n",
       "    <tr style=\"text-align: right;\">\n",
       "      <th></th>\n",
       "      <th>Topic 1</th>\n",
       "      <th>Topic 2</th>\n",
       "      <th>Topic 3</th>\n",
       "      <th>Topic 4</th>\n",
       "    </tr>\n",
       "  </thead>\n",
       "  <tbody>\n",
       "    <tr>\n",
       "      <th>Term1</th>\n",
       "      <td>like</td>\n",
       "      <td>food</td>\n",
       "      <td>coffee</td>\n",
       "      <td>buy</td>\n",
       "    </tr>\n",
       "    <tr>\n",
       "      <th>Term2</th>\n",
       "      <td>taste</td>\n",
       "      <td>dog</td>\n",
       "      <td>chocolate</td>\n",
       "      <td>get</td>\n",
       "    </tr>\n",
       "    <tr>\n",
       "      <th>Term3</th>\n",
       "      <td>good</td>\n",
       "      <td>treat</td>\n",
       "      <td>cup</td>\n",
       "      <td>product</td>\n",
       "    </tr>\n",
       "    <tr>\n",
       "      <th>Term4</th>\n",
       "      <td>flavor</td>\n",
       "      <td>cat</td>\n",
       "      <td>bean</td>\n",
       "      <td>find</td>\n",
       "    </tr>\n",
       "    <tr>\n",
       "      <th>Term5</th>\n",
       "      <td>try</td>\n",
       "      <td>hair</td>\n",
       "      <td>milk</td>\n",
       "      <td>order</td>\n",
       "    </tr>\n",
       "    <tr>\n",
       "      <th>Term6</th>\n",
       "      <td>make</td>\n",
       "      <td>eat</td>\n",
       "      <td>roast</td>\n",
       "      <td>love</td>\n",
       "    </tr>\n",
       "    <tr>\n",
       "      <th>Term7</th>\n",
       "      <td>tea</td>\n",
       "      <td>salmon</td>\n",
       "      <td>blend</td>\n",
       "      <td>price</td>\n",
       "    </tr>\n",
       "    <tr>\n",
       "      <th>Term8</th>\n",
       "      <td>really</td>\n",
       "      <td>grain</td>\n",
       "      <td>dark</td>\n",
       "      <td>time</td>\n",
       "    </tr>\n",
       "    <tr>\n",
       "      <th>Term9</th>\n",
       "      <td>great</td>\n",
       "      <td>chew</td>\n",
       "      <td>cake</td>\n",
       "      <td>bag</td>\n",
       "    </tr>\n",
       "    <tr>\n",
       "      <th>Term10</th>\n",
       "      <td>one</td>\n",
       "      <td>dry</td>\n",
       "      <td>coconut</td>\n",
       "      <td>box</td>\n",
       "    </tr>\n",
       "  </tbody>\n",
       "</table>\n",
       "</div>"
      ],
      "text/plain": [
       "       Topic 1 Topic 2    Topic 3  Topic 4\n",
       "Term1     like    food     coffee      buy\n",
       "Term2    taste     dog  chocolate      get\n",
       "Term3     good   treat        cup  product\n",
       "Term4   flavor     cat       bean     find\n",
       "Term5      try    hair       milk    order\n",
       "Term6     make     eat      roast     love\n",
       "Term7      tea  salmon      blend    price\n",
       "Term8   really   grain       dark     time\n",
       "Term9    great    chew       cake      bag\n",
       "Term10     one     dry    coconut      box"
      ]
     },
     "execution_count": 33,
     "metadata": {},
     "output_type": "execute_result"
    }
   ],
   "source": [
    "topics_df = pd.DataFrame([[term for term, wt in topic] \n",
    "                              for topic in topics], \n",
    "                         columns = ['Term'+str(i) for i in range(1, 11)],\n",
    "                         index=['Topic '+str(t) for t in range(1, lda_model.num_topics+1)]).T\n",
    "topics_df"
   ]
  },
  {
   "cell_type": "code",
   "execution_count": 34,
   "metadata": {},
   "outputs": [
    {
     "name": "stderr",
     "output_type": "stream",
     "text": [
      "C:\\Users\\reesh\\Anaconda3\\lib\\site-packages\\ipykernel_launcher.py:1: FutureWarning: Passing a negative integer is deprecated in version 1.0 and will not be supported in future version. Instead, use None to not limit the column width.\n",
      "  \"\"\"Entry point for launching an IPython kernel.\n"
     ]
    },
    {
     "data": {
      "text/html": [
       "<div>\n",
       "<style scoped>\n",
       "    .dataframe tbody tr th:only-of-type {\n",
       "        vertical-align: middle;\n",
       "    }\n",
       "\n",
       "    .dataframe tbody tr th {\n",
       "        vertical-align: top;\n",
       "    }\n",
       "\n",
       "    .dataframe thead th {\n",
       "        text-align: right;\n",
       "    }\n",
       "</style>\n",
       "<table border=\"1\" class=\"dataframe\">\n",
       "  <thead>\n",
       "    <tr style=\"text-align: right;\">\n",
       "      <th></th>\n",
       "      <th>Terms per Topic</th>\n",
       "    </tr>\n",
       "  </thead>\n",
       "  <tbody>\n",
       "    <tr>\n",
       "      <th>Topic1</th>\n",
       "      <td>like, taste, good, flavor, try, make, tea, really, great, one</td>\n",
       "    </tr>\n",
       "    <tr>\n",
       "      <th>Topic2</th>\n",
       "      <td>food, dog, treat, cat, hair, eat, salmon, grain, chew, dry</td>\n",
       "    </tr>\n",
       "    <tr>\n",
       "      <th>Topic3</th>\n",
       "      <td>coffee, chocolate, cup, bean, milk, roast, blend, dark, cake, coconut</td>\n",
       "    </tr>\n",
       "    <tr>\n",
       "      <th>Topic4</th>\n",
       "      <td>buy, get, product, find, order, love, price, time, bag, box</td>\n",
       "    </tr>\n",
       "  </tbody>\n",
       "</table>\n",
       "</div>"
      ],
      "text/plain": [
       "                                                              Terms per Topic\n",
       "Topic1  like, taste, good, flavor, try, make, tea, really, great, one        \n",
       "Topic2  food, dog, treat, cat, hair, eat, salmon, grain, chew, dry           \n",
       "Topic3  coffee, chocolate, cup, bean, milk, roast, blend, dark, cake, coconut\n",
       "Topic4  buy, get, product, find, order, love, price, time, bag, box          "
      ]
     },
     "execution_count": 34,
     "metadata": {},
     "output_type": "execute_result"
    }
   ],
   "source": [
    "pd.set_option('display.max_colwidth', -1)\n",
    "topics_df = pd.DataFrame([', '.join([term for term, wt in topic])  \n",
    "                              for topic in topics],\n",
    "                         columns = ['Terms per Topic'],\n",
    "                         index=['Topic'+str(t) for t in range(1, lda_model.num_topics+1)]\n",
    "                         )\n",
    "topics_df"
   ]
  },
  {
   "cell_type": "markdown",
   "metadata": {},
   "source": [
    "#### Creating Bigram and Trigram Models"
   ]
  },
  {
   "cell_type": "markdown",
   "metadata": {},
   "source": [
    "Bigrams are two words frequently occurring together in the document. Trigrams are 3 words frequently occurring.Gensim’s Phrases model can build and implement the bigrams, trigrams, quadgrams and more. The two important arguments to Phrases are min_count and threshold. The higher the values of these param, the harder it is for words to be combined to bigrams."
   ]
  },
  {
   "cell_type": "code",
   "execution_count": null,
   "metadata": {},
   "outputs": [],
   "source": [
    "bigram = gensim.models.Phrases(data_words, min_count=5, threshold=100) # higher threshold fewer phrases.\n",
    "# Faster way to get a sentence clubbed as a trigram/bigram\n",
    "bigram_mod = gensim.models.phrases.Phraser(bigram)\n",
    "def make_bigrams(texts):\n",
    "    return [bigram_mod[doc] for doc in texts]\n",
    "data_words_bigrams = make_bigrams(data_words)\n",
    "print(data_words_bigrams[6])"
   ]
  },
  {
   "cell_type": "code",
   "execution_count": null,
   "metadata": {},
   "outputs": [],
   "source": [
    "trigram = gensim.models.Phrases(bigram[data_words], threshold=100)\n",
    "trigram_mod = gensim.models.phrases.Phraser(trigram)\n",
    "def make_trigrams(texts):\n",
    "    return [trigram_mod[bigram_mod[doc]] for doc in texts]\n",
    "data_words_trigrams = make_trigrams(data_words)\n",
    "print(data_words_trigrams[2])"
   ]
  },
  {
   "cell_type": "markdown",
   "metadata": {},
   "source": [
    "#### Create the Dictionary and Corpus needed for Topic Modeling"
   ]
  },
  {
   "cell_type": "markdown",
   "metadata": {},
   "source": [
    "Gensim creates a unique id for each word in the document. The first 10 words in our dictionary are as follows:"
   ]
  },
  {
   "cell_type": "code",
   "execution_count": null,
   "metadata": {},
   "outputs": [],
   "source": [
    "from gensim.corpora.dictionary import Dictionary\n",
    "\n",
    "vocabulary = Dictionary(data_words_bigrams)\n",
    "\n",
    "vocabulary_keys = list(vocabulary.token2id)[0:10]\n",
    "\n",
    "for key in vocabulary_keys:\n",
    "    print(f\"ID: {vocabulary.token2id[key]}, Token: {key}\")"
   ]
  },
  {
   "cell_type": "markdown",
   "metadata": {},
   "source": [
    "In order for a machine learning model to work with text input, the document must first be vectorized. So the input has to be converted into  numerical values."
   ]
  },
  {
   "cell_type": "markdown",
   "metadata": {},
   "source": [
    "#### Bag of Words Model"
   ]
  },
  {
   "cell_type": "markdown",
   "metadata": {},
   "source": [
    "The classical approach in expressing text as a set of features is getting the token frequency. Each entry to the dataframe is a document while each column corresponds to every unique token in the entire corpora. The row will identify how many times a word appears in the document. "
   ]
  },
  {
   "cell_type": "code",
   "execution_count": null,
   "metadata": {},
   "outputs": [],
   "source": [
    "bow = [vocabulary.doc2bow(doc) for doc in data_words_bigrams]\n",
    "\n",
    "for idx, freq in bow[0]:\n",
    "    print(f\"Word: {vocabulary.get(idx)}, Frequency: {freq}\")"
   ]
  },
  {
   "cell_type": "markdown",
   "metadata": {},
   "source": [
    "#### TF-IDF Model"
   ]
  },
  {
   "cell_type": "markdown",
   "metadata": {},
   "source": [
    "Tf-idf stands for term frequency-inverse document frequency, and the tf-idf weight is a weight often used in information retrieval and text mining. This weight is a statistical measure used to evaluate how important a word is to a document in a collection or corpus. The importance increases proportionally to the number of times a word appears in the document but is offset by the frequency of the word in the corpus. "
   ]
  },
  {
   "cell_type": "code",
   "execution_count": null,
   "metadata": {
    "scrolled": true
   },
   "outputs": [],
   "source": [
    "from gensim.models.tfidfmodel import TfidfModel\n",
    "\n",
    "tfidf = TfidfModel(bow)\n",
    "\n",
    "for idx, weight in tfidf[bow[0]]:\n",
    "    print(f\"Word: {vocabulary.get(idx)}, Weight: {weight:.3f}\")"
   ]
  },
  {
   "cell_type": "markdown",
   "metadata": {},
   "source": [
    "#### Shortcomings of count-based feature engineering model"
   ]
  },
  {
   "cell_type": "markdown",
   "metadata": {},
   "source": [
    "Traditional count-based feature engineering models are bag of words and  TF-IDF. While they are effective methods for extracting features from text, due to the inherent nature of the model being just a bag of unstructured words, we lose additional information like the semantics, structure, sequence and context around nearby words in each text document."
   ]
  },
  {
   "cell_type": "markdown",
   "metadata": {},
   "source": [
    "#### The need for word embeddings"
   ]
  },
  {
   "cell_type": "markdown",
   "metadata": {},
   "source": [
    "In case of raw text data, especially count based models like Bag of Words, we are dealing with individual words which may have their own identifiers and do not capture the semantic relationship amongst words. This leads to huge sparse word vectors for textual data and thus if we do not have enough data, we may end up getting poor models or even overfitting the data due to the curse of dimensionality.\n",
    "\n",
    "Predictive methods like Neural Network based language models try to predict words from its neighboring words looking at word sequences in the corpus and in the process it learns distributed representations giving us dense word embeddings."
   ]
  },
  {
   "cell_type": "markdown",
   "metadata": {},
   "source": [
    "#### The Word2Vec Model"
   ]
  },
  {
   "cell_type": "markdown",
   "metadata": {},
   "source": [
    "This is a predictive deep learning based model to compute and generate high quality, distributed and continuous dense vector representations of words, which capture contextual and semantic similarity. Essentially these are unsupervised models which can take in massive textual corpora, create a vocabulary of possible words and generate dense word embeddings for each word in the vector space representing that vocabulary. "
   ]
  },
  {
   "cell_type": "code",
   "execution_count": null,
   "metadata": {},
   "outputs": [],
   "source": [
    "from gensim.models import word2vec\n",
    "\n",
    "# Set values for various parameters\n",
    "feature_size = 100    # Word vector dimensionality  \n",
    "window_context = 30          # Context window size                                                                                    \n",
    "min_word_count = 1   # Minimum word count                        \n",
    "sample = 1e-3   # Downsample setting for frequent words\n",
    "\n",
    "w2v_model = word2vec.Word2Vec(data_words, size=feature_size, \n",
    "                          window=window_context, min_count=min_word_count,\n",
    "                          sample=sample, iter=50,seed=42)\n",
    "\n"
   ]
  },
  {
   "cell_type": "code",
   "execution_count": null,
   "metadata": {},
   "outputs": [],
   "source": [
    "# view similar words based on gensim's model\n",
    "similar_words = {search_term: [item[0] for item in w2v_model.wv.most_similar([search_term], topn=5)]\n",
    "                  for search_term in ['best', 'like', 'use', 'product', 'horrible', 'taste','price','dog']}\n",
    "similar_words"
   ]
  },
  {
   "cell_type": "markdown",
   "metadata": {},
   "source": [
    "To better appreciate the concept of word embeddings, I took eight common words in our corpora and derive their five most related words using our word_vec model. The similarity comes from how often these tokens appear in the same window of words as their similar_words counterpart."
   ]
  },
  {
   "cell_type": "markdown",
   "metadata": {},
   "source": [
    "#### t-SNE"
   ]
  },
  {
   "cell_type": "markdown",
   "metadata": {},
   "source": [
    "t-Distributed Stochastic Neighbor Embedding (t-SNE) is an unsupervised, non-linear technique primarily used for data exploration and visualizing high-dimensional data.  t-SNE gives a feel or intuition of how the data is arranged in a high-dimensional space."
   ]
  },
  {
   "cell_type": "markdown",
   "metadata": {},
   "source": [
    "#### Word Algebra"
   ]
  },
  {
   "cell_type": "markdown",
   "metadata": {},
   "source": [
    "Since Word2Vec characterizes words into quantified tokens, we can consequently add or subtract word vectors together. To add is to combine the meaning of the components and to subtract is to take out the context of one token from another. The following are examples of this vector algebra and their similarity scores:"
   ]
  },
  {
   "cell_type": "markdown",
   "metadata": {},
   "source": [
    "##### Dog + Food"
   ]
  },
  {
   "cell_type": "code",
   "execution_count": null,
   "metadata": {
    "scrolled": true
   },
   "outputs": [],
   "source": [
    "w2v_model.wv.most_similar(positive=[\"dog\", \"food\"], \\\n",
    "                      negative=[], topn=1)"
   ]
  },
  {
   "cell_type": "markdown",
   "metadata": {},
   "source": [
    "##### Coffee + tea"
   ]
  },
  {
   "cell_type": "code",
   "execution_count": null,
   "metadata": {},
   "outputs": [],
   "source": [
    "w2v_model.wv.most_similar(positive=[\"coffee\",'tea'], \\\n",
    "                      negative=[], topn=1)"
   ]
  },
  {
   "cell_type": "markdown",
   "metadata": {},
   "source": [
    "#### LDA"
   ]
  },
  {
   "cell_type": "code",
   "execution_count": null,
   "metadata": {},
   "outputs": [],
   "source": [
    "lda_model = gensim.models.ldamodel.LdaModel(corpus=bow,\n",
    "                                           id2word=vocabulary,\n",
    "                                           num_topics=10, \n",
    "                                           random_state=100,\n",
    "                                           update_every=1,\n",
    "                                           chunksize=100,\n",
    "                                           passes=10,\n",
    "                                           alpha='auto',\n",
    "                                           per_word_topics=True)\n"
   ]
  },
  {
   "cell_type": "code",
   "execution_count": null,
   "metadata": {},
   "outputs": [],
   "source": [
    "# Print the Keyword in the 10 topics\n",
    "from pprint import pprint\n",
    "pprint(lda_model.print_topics())\n",
    "doc_lda = lda_model[bow]"
   ]
  },
  {
   "cell_type": "code",
   "execution_count": null,
   "metadata": {},
   "outputs": [],
   "source": [
    "for topic in range(0, 5):\n",
    "    print(f\"\\nTopic {topic+1}:\")\n",
    "    for token, frequency in lda_model.show_topic(topic, topn=10):\n",
    "        print(f\" {token}, {frequency}\")"
   ]
  },
  {
   "cell_type": "markdown",
   "metadata": {},
   "source": [
    "It means the top 10 keywords that contribute to this topic 3 are: ‘taste’, ‘like’, ‘good’.. and so on and the weight of ‘taste’ on topic 3 is 0.05.\n",
    "The weights reflect how important a keyword is to that topic."
   ]
  },
  {
   "cell_type": "markdown",
   "metadata": {},
   "source": [
    "#### Visualize the topics-keywords"
   ]
  },
  {
   "cell_type": "code",
   "execution_count": null,
   "metadata": {},
   "outputs": [],
   "source": [
    "from matplotlib import pyplot as plt\n",
    "from wordcloud import WordCloud, STOPWORDS\n",
    "import matplotlib.colors as mcolors\n",
    "\n",
    "cols = [color for name, color in mcolors.TABLEAU_COLORS.items()]  # more colors: 'mcolors.XKCD_COLORS'\n",
    "\n",
    "cloud = WordCloud(stopwords=stop_words,\n",
    "                  background_color='white',\n",
    "                  width=2500,\n",
    "                  height=1800,\n",
    "                  max_words=10,\n",
    "                  colormap='tab10',\n",
    "                  color_func=lambda *args, **kwargs: cols[i],\n",
    "                  prefer_horizontal=1.0)\n",
    "\n",
    "topics = lda_model.show_topics(formatted=False)\n",
    "\n",
    "fig, axes = plt.subplots(2, 2, figsize=(10,10), sharex=True, sharey=True)\n",
    "\n",
    "for i, ax in enumerate(axes.flatten()):\n",
    "    fig.add_subplot(ax)\n",
    "    topic_words = dict(topics[i][1])\n",
    "    cloud.generate_from_frequencies(topic_words, max_font_size=300)\n",
    "    plt.gca().imshow(cloud)\n",
    "    plt.gca().set_title('Topic ' + str(i), fontdict=dict(size=16))\n",
    "    plt.gca().axis('off')\n",
    "\n",
    "\n",
    "plt.subplots_adjust(wspace=0, hspace=0)\n",
    "plt.axis('off')\n",
    "plt.margins(x=0, y=0)\n",
    "plt.tight_layout()\n",
    "plt.show()"
   ]
  },
  {
   "cell_type": "code",
   "execution_count": null,
   "metadata": {},
   "outputs": [],
   "source": [
    "import pyLDAvis.gensim\n",
    "\n",
    "lda_idm = pyLDAvis.gensim.prepare(lda_model, bow, vocabulary)\n",
    "\n",
    "pyLDAvis.display(lda_idm)"
   ]
  },
  {
   "cell_type": "markdown",
   "metadata": {},
   "source": [
    "Each bubble on the left-hand side plot represents a topic. The larger the bubble, the more prevalent is that topic.\n",
    "A good topic model will have fairly big, non-overlapping bubbles scattered throughout the chart instead of being clustered in one quadrant.\n",
    "A model with too many topics, will typically have many overlaps, small sized bubbles clustered in one region of the chart.\n",
    "The right-hand side bars represent the words,form the selected topic."
   ]
  },
  {
   "cell_type": "code",
   "execution_count": null,
   "metadata": {},
   "outputs": [],
   "source": []
  },
  {
   "cell_type": "code",
   "execution_count": null,
   "metadata": {},
   "outputs": [],
   "source": []
  }
 ],
 "metadata": {
  "kernelspec": {
   "display_name": "Python 3",
   "language": "python",
   "name": "python3"
  },
  "language_info": {
   "codemirror_mode": {
    "name": "ipython",
    "version": 3
   },
   "file_extension": ".py",
   "mimetype": "text/x-python",
   "name": "python",
   "nbconvert_exporter": "python",
   "pygments_lexer": "ipython3",
   "version": "3.7.4"
  }
 },
 "nbformat": 4,
 "nbformat_minor": 2
}
